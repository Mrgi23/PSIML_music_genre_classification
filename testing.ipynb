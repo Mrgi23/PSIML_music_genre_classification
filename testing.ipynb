{
 "cells": [
  {
   "cell_type": "code",
   "execution_count": 1,
   "metadata": {},
   "outputs": [],
   "source": [
    "import scipy as sp\n",
    "import numpy as np\n",
    "import matplotlib.pyplot as plt\n",
    "from torchaudio.datasets import GTZAN\n",
    "from preprocessing import Preprocessing"
   ]
  },
  {
   "cell_type": "code",
   "execution_count": 2,
   "metadata": {},
   "outputs": [],
   "source": [
    "preproc = Preprocessing()\n",
    "args = {'ROOT': './Data/',\n",
    "        'FOLDER': 'genres_original',\n",
    "        'NFFT': 1024,\n",
    "        'SIZE': 660000,\n",
    "        'SPLIT_PARTITIONS': 10}"
   ]
  }
 ],
 "metadata": {
  "kernelspec": {
   "display_name": "Python 3.10.6 ('psiml-venv': venv)",
   "language": "python",
   "name": "python3"
  },
  "language_info": {
   "codemirror_mode": {
    "name": "ipython",
    "version": 3
   },
   "file_extension": ".py",
   "mimetype": "text/x-python",
   "name": "python",
   "nbconvert_exporter": "python",
   "pygments_lexer": "ipython3",
   "version": "3.10.6"
  },
  "orig_nbformat": 4,
  "vscode": {
   "interpreter": {
    "hash": "8a10519b42e2a5da5733efa4ea6a1433d73922307a6cc25ac3c0da0b2f1f88ca"
   }
  }
 },
 "nbformat": 4,
 "nbformat_minor": 2
}
