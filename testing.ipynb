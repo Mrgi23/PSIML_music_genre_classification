{
 "cells": [
  {
   "cell_type": "code",
   "execution_count": 1,
   "metadata": {},
   "outputs": [
    {
     "name": "stderr",
     "output_type": "stream",
     "text": [
      "c:\\Users\\psiml8\\Desktop\\PSIML_music_genre_classification\\psiml-venv\\lib\\site-packages\\tqdm\\auto.py:22: TqdmWarning: IProgress not found. Please update jupyter and ipywidgets. See https://ipywidgets.readthedocs.io/en/stable/user_install.html\n",
      "  from .autonotebook import tqdm as notebook_tqdm\n"
     ]
    }
   ],
   "source": [
    "import scipy as sp\n",
    "import numpy as np\n",
    "import matplotlib.pyplot as plt\n",
    "from torchaudio.datasets import GTZAN\n",
    "from loader import Loader"
   ]
  },
  {
   "cell_type": "code",
   "execution_count": 2,
   "metadata": {},
   "outputs": [],
   "source": [
    "args_loader = {'ROOT': './Data/',\n",
    "               'FOLDER': 'genres_original',\n",
    "               'SIZE': 660000}\n",
    "\n",
    "loader = Loader()\n",
    "\n",
    "data = loader.load(args=args_loader)\n"
   ]
  },
  {
   "cell_type": "code",
   "execution_count": 3,
   "metadata": {},
   "outputs": [],
   "source": [
    "args_preproc = {'NFFT': 1024,\n",
    "                'SPLIT_PARTITIONS': 10}\n",
    "\n",
    "spec = data.preprocess(args=args_preproc)"
   ]
  }
 ],
 "metadata": {
  "kernelspec": {
   "display_name": "Python 3.10.6 ('psiml-venv': venv)",
   "language": "python",
   "name": "python3"
  },
  "language_info": {
   "codemirror_mode": {
    "name": "ipython",
    "version": 3
   },
   "file_extension": ".py",
   "mimetype": "text/x-python",
   "name": "python",
   "nbconvert_exporter": "python",
   "pygments_lexer": "ipython3",
   "version": "3.10.6"
  },
  "orig_nbformat": 4,
  "vscode": {
   "interpreter": {
    "hash": "8a10519b42e2a5da5733efa4ea6a1433d73922307a6cc25ac3c0da0b2f1f88ca"
   }
  }
 },
 "nbformat": 4,
 "nbformat_minor": 2
}
